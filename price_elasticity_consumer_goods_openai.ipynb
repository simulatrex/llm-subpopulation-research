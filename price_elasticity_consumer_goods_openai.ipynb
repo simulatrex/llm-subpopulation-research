{
 "cells": [
  {
   "cell_type": "markdown",
   "metadata": {},
   "source": [
    "## Setup"
   ]
  },
  {
   "cell_type": "code",
   "execution_count": null,
   "metadata": {},
   "outputs": [],
   "source": [
    "from llm_utils import DEFAULT_SYSTEM_PROMPT, CognitiveModel\n",
    "from config import CHARACTERS_v2\n",
    "import time\n",
    "\n",
    "DEBUG = True\n",
    "ITERATIONS = 10\n",
    "\n",
    "YOGURT_PRICE_TAGS = [\"$1\", \"$2\", \"$3\", \"$4\",\"$5\"]\n",
    "\n",
    "YOGURT_BUY_PROMPT = \"At the grocery store, Activia, strawberry flavored, 0% fat, single pack yogurt is priced at {price_tag}. Would a customer purchase it at this price? Please only answer yes or no. No other answer is allowed.\"\n",
    "\n",
    "YOGURT_SELL_PROMPT = \"You are a dairy supplier and need to set a price for Activia, strawberry flavored, 0% fat, single pack yogurt. Would you sell the product at {price_tag}? Please only answer yes or no. No other answer is allowed.\"\n",
    "\n",
    "MACBOOK_PRICE_TAGS = [\"$999\", \"$1399\", \"$1699\", \"$1999\",\"$2299\"]\n",
    "\n",
    "MACBOOK_BUY_PROMPT = \"A MacBook Pro, 13 inch, 2022 model, with 256GB SSD and 8GB RAM, is available at a price of {price_tag}. Would a customer purchase it at this price? Please only answer yes or no. No other answer is allowed.\"\n",
    "\n",
    "MACBOOK_SELL_PROMPT = \"You are a supplier of electronics and need to decide on the pricing strategy for the MacBook Pro, 13 inch, 2022 model. Would you sell the product at {price_tag}? Please only answer yes or no. No other answer is allowed.\"\n",
    "\n",
    "VEBLEN_PRICE_TAGS = [\"$1000\", \"$2000\", \"$3000\", \"$4000\", \"$5000\"]\n",
    "\n",
    "VEBLEN_BUY_PROMPT = \"A Monogram coated canvas Louis Vuitton handbag with striped textile lining is available at a price of {price_tag}. Would a customer purchase it at this price? Please only answer yes or no. No other answer is allowed.\"\n",
    "\n",
    "VEBLEN_SELL_PROMPT = \"You are a supplier of luxury goods and need to decide on the pricing strategy for the Monogram coated canvas Louis Vuitton handbag with striped textile lining. Would you sell the product at {price_tag}? Please only answer yes or no. No other answer is allowed.\"\n",
    "\n",
    "SEGMENTS = [\"1\", \"2\", \"3\", \"4\", \"5\"]\n"
   ]
  },
  {
   "cell_type": "markdown",
   "metadata": {},
   "source": [
    "## OpenAI GPT 4 Turbo Runs"
   ]
  },
  {
   "cell_type": "code",
   "execution_count": null,
   "metadata": {},
   "outputs": [],
   "source": [
    "# Yogurt Buy Run\n",
    "from experiment import run_openai_llm_experiment\n",
    "\n",
    "run_openai_llm_experiment(\n",
    "    price_tags=YOGURT_PRICE_TAGS,\n",
    "    characters=CHARACTERS_v2,\n",
    "    iterations=ITERATIONS,\n",
    "    llm_model=CognitiveModel.GPT_4_TURBO,\n",
    "    prompts={\n",
    "        \"default\": DEFAULT_SYSTEM_PROMPT,\n",
    "        \"experiment\": YOGURT_BUY_PROMPT,\n",
    "    },\n",
    "    experiment_id=\"24_yogurt_buy\",\n",
    "    project_id=\"llm-subpopulation-research\",\n",
    "    dataset_name=\"llm_subpopulation_experiment_results\",\n",
    "    table_name=\"stated_preferences\",\n",
    "    debug=True\n",
    ")\n"
   ]
  },
  {
   "cell_type": "code",
   "execution_count": null,
   "metadata": {},
   "outputs": [],
   "source": [
    "# Macbook Buy Run\n",
    "from experiment import run_openai_llm_experiment\n",
    "\n",
    "run_openai_llm_experiment(\n",
    "    price_tags=MACBOOK_PRICE_TAGS,\n",
    "    characters=CHARACTERS_v2,\n",
    "    iterations=ITERATIONS,\n",
    "    llm_model=CognitiveModel.GPT_4_TURBO,\n",
    "    prompts={\n",
    "        \"default\": DEFAULT_SYSTEM_PROMPT,\n",
    "        \"experiment\": MACBOOK_BUY_PROMPT,\n",
    "    },\n",
    "    experiment_id=\"24_macbook_buy\",\n",
    "    project_id=\"llm-subpopulation-research\",\n",
    "    dataset_name=\"llm_subpopulation_experiment_results\",\n",
    "    table_name=\"stated_preferences\",\n",
    "    debug=True\n",
    ")\n"
   ]
  },
  {
   "cell_type": "code",
   "execution_count": null,
   "metadata": {},
   "outputs": [],
   "source": [
    "# Veblen Buy Run\n",
    "from experiment import run_openai_llm_experiment\n",
    "\n",
    "run_openai_llm_experiment(\n",
    "    price_tags=VEBLEN_PRICE_TAGS,\n",
    "    characters=CHARACTERS_v2,\n",
    "    iterations=ITERATIONS,\n",
    "    llm_model=CognitiveModel.GPT_4_TURBO,\n",
    "    prompts={\n",
    "        \"default\": DEFAULT_SYSTEM_PROMPT,\n",
    "        \"experiment\": VEBLEN_BUY_PROMPT,\n",
    "    },\n",
    "    experiment_id=\"24_veblen_buy\",\n",
    "    project_id=\"llm-subpopulation-research\",\n",
    "    dataset_name=\"llm_subpopulation_experiment_results\",\n",
    "    table_name=\"stated_preferences\",\n",
    "    debug=True\n",
    ")\n"
   ]
  },
  {
   "cell_type": "code",
   "execution_count": null,
   "metadata": {},
   "outputs": [],
   "source": [
    "# Yogurt Sell Run\n",
    "from experiment import run_openai_llm_seller_experiment\n",
    "\n",
    "run_openai_llm_seller_experiment(\n",
    "    price_tags=YOGURT_PRICE_TAGS,\n",
    "    iterations=ITERATIONS,\n",
    "    llm_model=CognitiveModel.GPT_4_TURBO,\n",
    "    prompts={\n",
    "        \"default\": DEFAULT_SYSTEM_PROMPT,\n",
    "        \"experiment\": YOGURT_SELL_PROMPT,\n",
    "    },\n",
    "    experiment_id=\"24_yogurt_sell\",\n",
    "    project_id=\"llm-subpopulation-research\",\n",
    "    dataset_name=\"llm_subpopulation_experiment_results\",\n",
    "    table_name=\"stated_preferences\",\n",
    "    debug=True\n",
    ")\n"
   ]
  },
  {
   "cell_type": "code",
   "execution_count": null,
   "metadata": {},
   "outputs": [],
   "source": [
    "# Macbook Sell Run\n",
    "from experiment import run_openai_llm_seller_experiment\n",
    "\n",
    "run_openai_llm_seller_experiment(\n",
    "    price_tags=MACBOOK_PRICE_TAGS,\n",
    "    iterations=ITERATIONS,\n",
    "    llm_model=CognitiveModel.GPT_4_TURBO,\n",
    "    prompts={\n",
    "        \"default\": DEFAULT_SYSTEM_PROMPT,\n",
    "        \"experiment\": MACBOOK_SELL_PROMPT,\n",
    "    },\n",
    "    experiment_id=\"24_macbook_sell\",\n",
    "    project_id=\"llm-subpopulation-research\",\n",
    "    dataset_name=\"llm_subpopulation_experiment_results\",\n",
    "    table_name=\"stated_preferences\",\n",
    "    debug=True\n",
    ")\n"
   ]
  },
  {
   "cell_type": "code",
   "execution_count": null,
   "metadata": {},
   "outputs": [],
   "source": [
    "# Veblen Sell Run\n",
    "from experiment import run_openai_llm_seller_experiment\n",
    "\n",
    "run_openai_llm_seller_experiment(\n",
    "    price_tags=VEBLEN_PRICE_TAGS,\n",
    "    iterations=ITERATIONS,\n",
    "    llm_model=CognitiveModel.GPT_4_TURBO,\n",
    "    prompts={\n",
    "        \"default\": DEFAULT_SYSTEM_PROMPT,\n",
    "        \"experiment\": VEBLEN_SELL_PROMPT,\n",
    "    },\n",
    "    experiment_id=\"24_veblen_sell\",\n",
    "    project_id=\"llm-subpopulation-research\",\n",
    "    dataset_name=\"llm_subpopulation_experiment_results\",\n",
    "    table_name=\"stated_preferences\",\n",
    "    debug=True\n",
    ")\n"
   ]
  },
  {
   "cell_type": "markdown",
   "metadata": {},
   "source": [
    "## GPT 3.5 Run"
   ]
  },
  {
   "cell_type": "code",
   "execution_count": null,
   "metadata": {},
   "outputs": [],
   "source": [
    "# Yogurt Buy Run\n",
    "from experiment import run_openai_llm_experiment\n",
    "\n",
    "run_openai_llm_experiment(\n",
    "    price_tags=YOGURT_PRICE_TAGS,\n",
    "    characters=CHARACTERS_v2,\n",
    "    iterations=ITERATIONS,\n",
    "    llm_model=CognitiveModel.GPT_35_TURBO,\n",
    "    prompts={\n",
    "        \"default\": DEFAULT_SYSTEM_PROMPT,\n",
    "        \"experiment\": YOGURT_BUY_PROMPT,\n",
    "    },\n",
    "    experiment_id=\"24_yogurt_buy\",\n",
    "    project_id=\"llm-subpopulation-research\",\n",
    "    dataset_name=\"llm_subpopulation_experiment_results\",\n",
    "    table_name=\"stated_preferences\",\n",
    "    debug=True\n",
    ")\n"
   ]
  },
  {
   "cell_type": "code",
   "execution_count": null,
   "metadata": {},
   "outputs": [],
   "source": [
    "# Macbook Buy Run\n",
    "from experiment import run_openai_llm_experiment\n",
    "\n",
    "run_openai_llm_experiment(\n",
    "    price_tags=MACBOOK_PRICE_TAGS,\n",
    "    characters=CHARACTERS_v2,\n",
    "    iterations=ITERATIONS,\n",
    "    llm_model=CognitiveModel.GPT_35_TURBO,\n",
    "    prompts={\n",
    "        \"default\": DEFAULT_SYSTEM_PROMPT,\n",
    "        \"experiment\": MACBOOK_BUY_PROMPT,\n",
    "    },\n",
    "    experiment_id=\"24_macbook_buy\",\n",
    "    project_id=\"llm-subpopulation-research\",\n",
    "    dataset_name=\"llm_subpopulation_experiment_results\",\n",
    "    table_name=\"stated_preferences\",\n",
    "    debug=True\n",
    ")\n"
   ]
  },
  {
   "cell_type": "code",
   "execution_count": null,
   "metadata": {},
   "outputs": [],
   "source": [
    "# Veblen Buy Run\n",
    "from experiment import run_openai_llm_experiment\n",
    "\n",
    "run_openai_llm_experiment(\n",
    "    price_tags=VEBLEN_PRICE_TAGS,\n",
    "    characters=CHARACTERS_v2,\n",
    "    iterations=ITERATIONS,\n",
    "    llm_model=CognitiveModel.GPT_35_TURBO,\n",
    "    prompts={\n",
    "        \"default\": DEFAULT_SYSTEM_PROMPT,\n",
    "        \"experiment\": VEBLEN_BUY_PROMPT,\n",
    "    },\n",
    "    experiment_id=\"24_veblen_buy\",\n",
    "    project_id=\"llm-subpopulation-research\",\n",
    "    dataset_name=\"llm_subpopulation_experiment_results\",\n",
    "    table_name=\"stated_preferences\",\n",
    "    debug=True\n",
    ")\n"
   ]
  },
  {
   "cell_type": "code",
   "execution_count": null,
   "metadata": {},
   "outputs": [],
   "source": [
    "# Yogurt Sell Run\n",
    "from experiment import run_openai_llm_seller_experiment\n",
    "\n",
    "run_openai_llm_seller_experiment(\n",
    "    price_tags=YOGURT_PRICE_TAGS,\n",
    "    iterations=ITERATIONS,\n",
    "    llm_model=CognitiveModel.GPT_35_TURBO,\n",
    "    prompts={\n",
    "        \"default\": DEFAULT_SYSTEM_PROMPT,\n",
    "        \"experiment\": YOGURT_SELL_PROMPT,\n",
    "    },\n",
    "    experiment_id=\"24_yogurt_sell\",\n",
    "    project_id=\"llm-subpopulation-research\",\n",
    "    dataset_name=\"llm_subpopulation_experiment_results\",\n",
    "    table_name=\"stated_preferences\",\n",
    "    debug=True\n",
    ")\n"
   ]
  },
  {
   "cell_type": "code",
   "execution_count": null,
   "metadata": {},
   "outputs": [],
   "source": [
    "# Macbook Sell Run\n",
    "from experiment import run_openai_llm_seller_experiment\n",
    "\n",
    "run_openai_llm_seller_experiment(\n",
    "    price_tags=MACBOOK_PRICE_TAGS,\n",
    "    iterations=ITERATIONS,\n",
    "    llm_model=CognitiveModel.GPT_35_TURBO,\n",
    "    prompts={\n",
    "        \"default\": DEFAULT_SYSTEM_PROMPT,\n",
    "        \"experiment\": MACBOOK_SELL_PROMPT,\n",
    "    },\n",
    "    experiment_id=\"24_macbook_sell\",\n",
    "    project_id=\"llm-subpopulation-research\",\n",
    "    dataset_name=\"llm_subpopulation_experiment_results\",\n",
    "    table_name=\"stated_preferences\",\n",
    "    debug=True\n",
    ")\n"
   ]
  },
  {
   "cell_type": "code",
   "execution_count": null,
   "metadata": {},
   "outputs": [],
   "source": [
    "# Veblen Sell Run\n",
    "from experiment import run_openai_llm_seller_experiment\n",
    "\n",
    "run_openai_llm_seller_experiment(\n",
    "    price_tags=VEBLEN_PRICE_TAGS,\n",
    "    iterations=ITERATIONS,\n",
    "    llm_model=CognitiveModel.GPT_35_TURBO,\n",
    "    prompts={\n",
    "        \"default\": DEFAULT_SYSTEM_PROMPT,\n",
    "        \"experiment\": VEBLEN_SELL_PROMPT,\n",
    "    },\n",
    "    experiment_id=\"24_veblen_sell\",\n",
    "    project_id=\"llm-subpopulation-research\",\n",
    "    dataset_name=\"llm_subpopulation_experiment_results\",\n",
    "    table_name=\"stated_preferences\",\n",
    "    debug=True\n",
    ")\n"
   ]
  }
 ],
 "metadata": {
  "kernelspec": {
   "display_name": "llm-subpopulations",
   "language": "python",
   "name": "python3"
  },
  "language_info": {
   "codemirror_mode": {
    "name": "ipython",
    "version": 3
   },
   "file_extension": ".py",
   "mimetype": "text/x-python",
   "name": "python",
   "nbconvert_exporter": "python",
   "pygments_lexer": "ipython3",
   "version": "3.12.1"
  }
 },
 "nbformat": 4,
 "nbformat_minor": 2
}
